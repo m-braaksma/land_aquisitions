{
 "cells": [
  {
   "cell_type": "code",
   "execution_count": null,
   "metadata": {},
   "outputs": [],
   "source": [
    "import requests\n",
    "import geopandas as gpd\n",
    "import numpy as np\n",
    "from shapely.geometry import Point, LineString, Polygon\n",
    "import folium"
   ]
  },
  {
   "cell_type": "markdown",
   "metadata": {},
   "source": [
    "Use API to fetch data"
   ]
  },
  {
   "cell_type": "code",
   "execution_count": null,
   "metadata": {},
   "outputs": [],
   "source": [
    "# Define the API endpoint\n",
    "url = \"https://www.federalregister.gov/api/v1/documents.json\"\n",
    "\n",
    "# Define query parameters\n",
    "params = {\n",
    "    \"conditions[publication_date][gte]\": \"2024-01-01\",  # Start date\n",
    "    \"conditions[publication_date][lte]\": \"2024-12-31\",  # End date\n",
    "    \"conditions[agencies][]\": \"indian-affairs-bureau\",  # Filter by agency\n",
    "    \"conditions[type][]\": \"NOTICE\",\n",
    "    \"conditions[term]\": \"Land Acquisition\",  # Search term\n",
    "    \"fields[]\": \"raw_text_url\",\n",
    "    \"order\": \"relevance\",  # Sort order\n",
    "    \"per_page\": 2  # Number of results per page\n",
    "}\n",
    "\n",
    "# Make the initial API request\n",
    "response = requests.get(url, params=params)\n",
    "\n",
    "# Check for errors\n",
    "if response.status_code == 200:\n",
    "    data = response.json()\n",
    "    raw_text_urls = [doc[\"raw_text_url\"] for doc in data.get(\"results\", [])]\n",
    "    print(f\"Found {len(raw_text_urls)} documents.\")\n",
    "    \n",
    "    # Process each raw text URL\n",
    "    for raw_text_url in raw_text_urls:\n",
    "        print(f\"Fetching content from: {raw_text_url}\")\n",
    "        raw_response = requests.get(raw_text_url)\n",
    "        \n",
    "        if raw_response.status_code == 200:\n",
    "            # Extract and print the raw text\n",
    "            raw_text = raw_response.text\n",
    "            print(f\"Content Preview:\\n{raw_text[:2000]}...\\n\")  # Print the first 1000 characters for preview\n",
    "            print(\"-\" * 80)\n",
    "        else:\n",
    "            print(f\"Error fetching raw text: {raw_response.status_code}\")\n",
    "else:\n",
    "    print(f\"Error: {response.status_code} - {response.text}\")\n"
   ]
  },
  {
   "cell_type": "markdown",
   "metadata": {},
   "source": [
    "Load PLSS data for given section"
   ]
  },
  {
   "cell_type": "code",
   "execution_count": null,
   "metadata": {},
   "outputs": [],
   "source": [
    "# Load the PLSS shapefile \n",
    "shapefile_path = '/Users/mbraaksma/Downloads/BLM_NATL_PLSS.gdb/ilmocplss.gdb'\n",
    "div_gdf = gpd.read_file(shapefile_path, \n",
    "                    layer='PLSSIntersected', \n",
    "                    where=\"STATEABBR = 'MN' AND TWNSHPNO = '108' AND TWNSHPDIR = 'N' AND RANGENO = '015' AND RANGEDIR = 'W' AND FRSTDIVNO = '01'\", \n",
    "                    engine='pyogrio')"
   ]
  },
  {
   "cell_type": "markdown",
   "metadata": {},
   "source": [
    "Attempt to create polygon"
   ]
  },
  {
   "cell_type": "code",
   "execution_count": null,
   "metadata": {},
   "outputs": [],
   "source": [
    "def calculate_new_point(start_point, bearing, distance):\n",
    "    # Convert bearing to radians\n",
    "    bearing_rad = np.deg2rad(bearing)\n",
    "    \n",
    "    # Distance to radians conversion (earth radius approx 6371000 meters)\n",
    "    distance_rad = distance / 6371000.0\n",
    "\n",
    "    lat1 = np.deg2rad(start_point.y)\n",
    "    lon1 = np.deg2rad(start_point.x)\n",
    "\n",
    "    lat2 = np.arcsin(np.sin(lat1) * np.cos(distance_rad) +\n",
    "                     np.cos(lat1) * np.sin(distance_rad) * np.cos(bearing_rad))\n",
    "\n",
    "    lon2 = lon1 + np.arctan2(np.sin(bearing_rad) * np.sin(distance_rad) * np.cos(lat1),\n",
    "                             np.cos(distance_rad) - np.sin(lat1) * np.sin(lat2))\n",
    "\n",
    "    return Point(np.rad2deg(lon2), np.rad2deg(lat2))\n",
    "\n",
    "def create_curve(start_point, radius, central_angle, direction='concave southwest'):\n",
    "    # Placeholder function for curve handling, to be developed as needed\n",
    "    # This will require more advanced geometric calculations or interpolation\n",
    "    # Return a list of points along the curve\n",
    "    return [start_point]  # Dummy placeholder\n",
    "\n",
    "# Get the northwest corner of the section\n",
    "section_polygon = div_gdf.geometry.unary_union\n",
    "northwest_corner = Point(section_polygon.bounds[0], section_polygon.bounds[3])\n",
    "\n",
    "# Trace the described polygon\n",
    "points = [northwest_corner]\n",
    "# South 00 degrees 54 minutes 41 seconds East, 778.98 feet\n",
    "points.append(calculate_new_point(points[-1], 180 + 0.9114, 778.98 * 0.3048))\n",
    "# South 44 degrees 55 minutes 49 seconds East, 764.84 feet\n",
    "points.append(calculate_new_point(points[-1], 180 + 44.9303, 764.84 * 0.3048))\n",
    "# Start of new line, another point at South 44 degrees 55 minutes 49 seconds East, 5121.99 feet\n",
    "points.append(calculate_new_point(points[-1], 180 + 44.9303, 5121.99 * 0.3048))\n",
    "# Curve segment with radius 1083.65 feet and central angle 20 degrees 34 minutes 11 seconds\n",
    "curve_points = create_curve(points[-1], 1083.65 * 0.3048, 20 + 34/60 + 11/3600)\n",
    "points.extend(curve_points)\n",
    "\n",
    "# Close the polygon if needed\n",
    "# points.append(points[0])\n",
    "\n",
    "# Create a polygon from points\n",
    "polygon = Polygon(points)\n",
    "\n",
    "# Visualize or save the new polygon\n",
    "gdf_polygon = gpd.GeoDataFrame(geometry=[polygon], crs=div_gdf.crs)\n"
   ]
  },
  {
   "cell_type": "markdown",
   "metadata": {},
   "source": [
    "Plot"
   ]
  },
  {
   "cell_type": "code",
   "execution_count": null,
   "metadata": {},
   "outputs": [],
   "source": [
    "# Plot\n",
    "m = div_gdf.drop(columns=['SOURCEDATE', 'REVISEDDATE']).explore(name=\"Section\")\n",
    "m = gdf_polygon.explore(m=m, color=\"red\", name=\"Parcel\")\n",
    "# this is completely optional\n",
    "folium.LayerControl().add_to(m)\n",
    "\n",
    "m"
   ]
  }
 ],
 "metadata": {
  "kernelspec": {
   "display_name": "geovenv2",
   "language": "python",
   "name": "python3"
  },
  "language_info": {
   "name": "python",
   "version": "3.11.6"
  }
 },
 "nbformat": 4,
 "nbformat_minor": 2
}
